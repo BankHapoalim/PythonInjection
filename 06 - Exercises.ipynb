{
 "cells": [
  {
   "cell_type": "markdown",
   "metadata": {},
   "source": [
    "## Exercise 1\n",
    "\n",
    "Create a histgram dict of the words from the string variable `paragraph`, the histogram should be case insensitive and all punctuation marks should be ignored and not part of the histogram.\n",
    "\n",
    "The key of the dict should be the word, and the value is the number of times it appears in the paragraph."
   ]
  },
  {
   "cell_type": "code",
   "execution_count": null,
   "metadata": {},
   "outputs": [],
   "source": [
    "paragraph = \"\"\"The question we writers are asked most often, the favorite question, is: Why do you write? \n",
    "I write because I have an innate need to write. I write because I can’t do normal work as other people do.\n",
    "I write because I want to read books like the ones I write. I write because I am angry at everyone.\n",
    "I write because I love sitting in a room all day writing.\n",
    "I write because I can partake of real life only by changing it. \n",
    "I write because I want others, the whole world, to know what sort of life we lived, and continue to live,\n",
    "in Istanbul, in Turkey. I write because I love the smell of paper, pen, and ink.\n",
    "I write because I believe in literature, in the art of the novel, more than I believe in anything else.\n",
    "I write because it is a habit, a passion. I write because I am afraid of being forgotten.\n",
    "I write because I like the glory and interest that writing brings. \n",
    "Perhaps I write because I hope to understand why I am so very, very angry at everyone.\"\"\"\n",
    "\n",
    "\n",
    "def word_histogram(s):\n",
    "    # Your code here...\n",
    "    \n",
    "print(word_histogram(paragraph))"
   ]
  },
  {
   "cell_type": "markdown",
   "metadata": {},
   "source": [
    "## Exercise 2\n",
    "\n",
    "An isogram (also known as a \"nonpattern word\") is a logological term for a word or phrase without a repeating letter.\n",
    "\n",
    "Determine if a word or phrase from a user input is an isogram, punctuation marks and white spaces are not considered letters."
   ]
  },
  {
   "cell_type": "code",
   "execution_count": null,
   "metadata": {},
   "outputs": [],
   "source": [
    "phrase = input(\"Enter a phrase:\")\n",
    "\n",
    "def is_isogram(s):\n",
    "    # Your code here...\n",
    "    \n",
    "print(is_isogram(phrase))"
   ]
  },
  {
   "cell_type": "markdown",
   "metadata": {},
   "source": [
    "## Exercise 3\n",
    "\n",
    "Find the difference between the square of the sum and the sum of the squares of the first N natural numbers."
   ]
  },
  {
   "cell_type": "code",
   "execution_count": null,
   "metadata": {},
   "outputs": [],
   "source": [
    "N = 8\n",
    "\n",
    "def sum_quare_difference(n):\n",
    "    # Your code here...\n",
    "    \n",
    "print(sum_quare_difference(N))"
   ]
  }
 ],
 "metadata": {
  "kernelspec": {
   "display_name": "Python 3",
   "language": "python",
   "name": "python3"
  },
  "language_info": {
   "codemirror_mode": {
    "name": "ipython",
    "version": 3
   },
   "file_extension": ".py",
   "mimetype": "text/x-python",
   "name": "python",
   "nbconvert_exporter": "python",
   "pygments_lexer": "ipython3",
   "version": "3.6.8"
  }
 },
 "nbformat": 4,
 "nbformat_minor": 2
}
