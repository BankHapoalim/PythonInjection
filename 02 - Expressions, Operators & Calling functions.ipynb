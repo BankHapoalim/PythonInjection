{
 "cells": [
  {
   "cell_type": "markdown",
   "metadata": {},
   "source": [
    "We already learned the basic math expressions in the previous chapter, we'll extend our knowledge a bit:\n",
    "\n",
    "## Boolean expressions"
   ]
  },
  {
   "cell_type": "code",
   "execution_count": null,
   "metadata": {},
   "outputs": [],
   "source": [
    "a = 4\n",
    "b = 4.01\n",
    "c = 5\n",
    "dct = {1:\"a\", 2:False}\n",
    "lst = [1,2,3,4,5]\n",
    "t = b > a  \n",
    "f = c < b\n",
    "# What are the types of t & f?\n",
    "\n",
    "print(\"Comparisons:\", a == b, a == int(b), a != c, t, b >= c) \n",
    "print(\"Membership:\", 1 in dct, 4 in lst, 5 not in lst, [1,2] in lst)\n",
    "print(\"Boolean operators:\", f or True, t and f, not(dct[1] or not f))"
   ]
  },
  {
   "cell_type": "markdown",
   "metadata": {},
   "source": [
    "## Slicing operators\n",
    "\n",
    "The slice constructor creates a slice object representing the set of indices specified to it. Works on ordered sequences like lists and tuples."
   ]
  },
  {
   "cell_type": "code",
   "execution_count": null,
   "metadata": {},
   "outputs": [],
   "source": [
    "my_list = [1,2,3,4,5,6]\n",
    "\n",
    "print(my_list[1:3])  # Return a new list that is slice of my_list from item 2 to item 4 (not including)"
   ]
  },
  {
   "cell_type": "code",
   "execution_count": null,
   "metadata": {},
   "outputs": [],
   "source": []
  },
  {
   "cell_type": "code",
   "execution_count": null,
   "metadata": {},
   "outputs": [],
   "source": [
    "print(my_list[:4]) # Return a new list that is slice of my_list from the first item to item 5 (not including)"
   ]
  },
  {
   "cell_type": "code",
   "execution_count": null,
   "metadata": {},
   "outputs": [],
   "source": [
    "print(my_list[1:]) # Return the list with the first item sliced out"
   ]
  },
  {
   "cell_type": "markdown",
   "metadata": {},
   "source": [
    "Slicing supports negative indice:"
   ]
  },
  {
   "cell_type": "code",
   "execution_count": null,
   "metadata": {},
   "outputs": [],
   "source": [
    "print(my_list[-3:]) # Return the last three items of the list"
   ]
  },
  {
   "cell_type": "code",
   "execution_count": null,
   "metadata": {},
   "outputs": [],
   "source": [
    "print(my_list[:-3]) # Return everything but the last three items"
   ]
  },
  {
   "cell_type": "markdown",
   "metadata": {},
   "source": [
    "A third argument can be supplied to the slice operator, it indicates the step length when slicing the list:"
   ]
  },
  {
   "cell_type": "code",
   "execution_count": null,
   "metadata": {},
   "outputs": [],
   "source": [
    "print(my_list[1::2])  # Returns every item with an even index"
   ]
  },
  {
   "cell_type": "code",
   "execution_count": null,
   "metadata": {},
   "outputs": [],
   "source": [
    "print(my_list[::2])  # Returns every item with an odd index"
   ]
  },
  {
   "cell_type": "markdown",
   "metadata": {},
   "source": [
    "Negative stepping is also supported:"
   ]
  },
  {
   "cell_type": "code",
   "execution_count": null,
   "metadata": {},
   "outputs": [],
   "source": [
    "print(my_list[::-1])  # Reverses the list"
   ]
  },
  {
   "cell_type": "code",
   "execution_count": null,
   "metadata": {},
   "outputs": [],
   "source": [
    "print(\"Strings are also sequences\"[1:-1])"
   ]
  },
  {
   "cell_type": "markdown",
   "metadata": {},
   "source": [
    "## Functions\n",
    "\n",
    "### Passing arguments to functions\n",
    "\n",
    "When functions are defined in Python, each argument the function accepts has a name and position, some arguments are optional and have default values.\n",
    "\n",
    "Lets have a look at the docstring of the round function:"
   ]
  },
  {
   "cell_type": "raw",
   "metadata": {},
   "source": [
    "Help on built-in function round in module __builtin__:\n",
    "\n",
    "round(...)\n",
    "   round(number[, ndigits]) -> floating point number\n",
    "\n",
    "   Round a number to a given precision in decimal digits (default 0 digits).\n",
    "   This always returns a floating point number.  Precision may be negative."
   ]
  },
  {
   "cell_type": "markdown",
   "metadata": {},
   "source": [
    "The round() function has two arguments - number and ndigits:"
   ]
  },
  {
   "cell_type": "markdown",
   "metadata": {},
   "source": [
    "`Argument 1 \"number\"`  -> required argument, the number we want to round\n",
    "\n",
    "`Argument 2 \"ndigits\"` -> optional argument, we can specify the amount of digits beyond the decimal point we want to round to."
   ]
  },
  {
   "cell_type": "markdown",
   "metadata": {},
   "source": [
    "*Note:* A mandatory argument will always be positioned before any optional argument."
   ]
  },
  {
   "cell_type": "code",
   "execution_count": null,
   "metadata": {},
   "outputs": [],
   "source": [
    "pi = 3.14159265359\n",
    "\n",
    "# We can pass arguments to a function using their positional location:\n",
    "print(round(pi,3 ))\n",
    "\n",
    "# We can pass arguments using keywords:\n",
    "print(round(ndigits=3, number=pi))\n",
    "\n",
    "# We can also do both:\n",
    "print(round(pi, ndigits=3))"
   ]
  },
  {
   "cell_type": "markdown",
   "metadata": {},
   "source": [
    "*Note*: When mixing positional & keyword arguments, the positinal arguments must come before keyword arguments"
   ]
  },
  {
   "cell_type": "code",
   "execution_count": null,
   "metadata": {},
   "outputs": [],
   "source": [
    "# This following statement will throw an exception:\n",
    "round(number=pi, 3)"
   ]
  },
  {
   "cell_type": "markdown",
   "metadata": {},
   "source": [
    "We've already seen some built-in python functions such as print(), bool(), round(), len(),  etc...\n",
    "\n",
    "Here are some more useful built-in functions:"
   ]
  },
  {
   "cell_type": "code",
   "execution_count": null,
   "metadata": {},
   "outputs": [],
   "source": [
    "float_tuple = (0.611, 0.254, 0.083, 0.807, 0.144, 0.748, 0.722, 0.881, 0.699, 0.667, 0.161, 0.542, 0.155)\n",
    "\n",
    "# Return the argument which has the maximum value:\n",
    "max(5, 10, 7) "
   ]
  },
  {
   "cell_type": "code",
   "execution_count": null,
   "metadata": {},
   "outputs": [],
   "source": [
    "# The argument can also be a sequence:\n",
    "max(float_tuple)"
   ]
  },
  {
   "cell_type": "code",
   "execution_count": null,
   "metadata": {},
   "outputs": [],
   "source": [
    "# This is the intuitive opposite:\n",
    "min(float_tuple)"
   ]
  },
  {
   "cell_type": "code",
   "execution_count": null,
   "metadata": {},
   "outputs": [],
   "source": [
    "# Summary of a sequence containing numbers:\n",
    "sum(float_tuple)"
   ]
  },
  {
   "cell_type": "code",
   "execution_count": null,
   "metadata": {},
   "outputs": [],
   "source": [
    "# map(function, sequence[, sequence, ...])\n",
    "# Runs a functions against each item of a sequence as an argument, returns an iterable object.\n",
    "rounded = map(round, float_tuple)\n",
    "print(list(rounded)) "
   ]
  },
  {
   "cell_type": "code",
   "execution_count": null,
   "metadata": {},
   "outputs": [],
   "source": [
    "# More of map:\n",
    "test_results_1 = [7, 9, 2, 7, 1, 1, 2, 2, 6, 2]\n",
    "test_results_2 = [7, 7, 5, 4, 1, 9, 8, 4, 4, 9]\n",
    "\n",
    "top_results = map(max, test_results_1, test_results_2)\n",
    "print(list(top_results))"
   ]
  },
  {
   "cell_type": "code",
   "execution_count": null,
   "metadata": {},
   "outputs": [],
   "source": [
    "test_results_3 = [9, 2, 2, 5, 7, 8, 9, 9, 1, 3]\n",
    "\n",
    "# Zipping sequences:\n",
    "zipped_results = zip(test_results_1, test_results_2, test_results_3)\n",
    "print(\"Zipped results:\", list(zipped_results))"
   ]
  },
  {
   "cell_type": "code",
   "execution_count": null,
   "metadata": {},
   "outputs": [],
   "source": [
    "# Boolean evaluation of a sequences:\n",
    "\n",
    "# any() returns True if any one of the items in the sequence evaluates to boolean True:\n",
    "set_1 = {False, 0, \"0\"}\n",
    "set_2 = {1, \"0\", True}\n",
    "list_1 = [[0], 1, \"1\"]\n",
    "list_2 = [[], 0, \"\"]\n",
    "\n",
    "print( any(set_1) , any(set_2), any(list_1), any(list_2))"
   ]
  },
  {
   "cell_type": "code",
   "execution_count": null,
   "metadata": {},
   "outputs": [],
   "source": [
    "# all() return True if *all* of the items of a sequence are evaluationg to boolean True:\n",
    "\n",
    "print( all(set_1) , all(set_2), all(list_1), all(list_2))"
   ]
  },
  {
   "cell_type": "code",
   "execution_count": null,
   "metadata": {},
   "outputs": [],
   "source": [
    "user_input = input(\"Enter something:\")\n",
    "\n",
    "print(input)"
   ]
  },
  {
   "cell_type": "code",
   "execution_count": null,
   "metadata": {},
   "outputs": [],
   "source": [
    "help(round)     # Returns the docstring of the function round"
   ]
  },
  {
   "cell_type": "code",
   "execution_count": null,
   "metadata": {},
   "outputs": [],
   "source": [
    "dir([1, 2, 3])  # Returns a list of all attributes/functions of an object."
   ]
  },
  {
   "cell_type": "markdown",
   "metadata": {},
   "source": [
    "## Short excercise\n",
    "\n",
    "Using what we've learned so far, print the total length of the last 15 strings of the `words` list bellow:"
   ]
  },
  {
   "cell_type": "code",
   "execution_count": 5,
   "metadata": {},
   "outputs": [],
   "source": [
    "words = ['et', 'dolor', 'dolore', 'labore', 'elit', 'aliqua', 'lorem', \n",
    "         'elit', 'dolor', 'sed', 'amet', 'labore', 'magna', 'sit', 'incididunt', \n",
    "         'elit', 'adipiscing', 'sed', 'incididunt', 'consectetur', 'tempor', 'adipiscing', \n",
    "         'consectetur', 'dolore', 'adipiscing', 'aliqua', 'ut', 'et', 'ipsum', 'ipsum', 'aliqua']\n",
    "\n",
    "# Your code here..."
   ]
  }
 ],
 "metadata": {
  "kernelspec": {
   "display_name": "Python 3",
   "language": "python",
   "name": "python3"
  },
  "language_info": {
   "codemirror_mode": {
    "name": "ipython",
    "version": 3
   },
   "file_extension": ".py",
   "mimetype": "text/x-python",
   "name": "python",
   "nbconvert_exporter": "python",
   "pygments_lexer": "ipython3",
   "version": "3.6.8"
  }
 },
 "nbformat": 4,
 "nbformat_minor": 2
}
