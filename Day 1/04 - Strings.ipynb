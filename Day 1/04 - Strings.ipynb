{
 "cells": [
  {
   "cell_type": "markdown",
   "metadata": {},
   "source": [
    "# Strings\n",
    "\n",
    "Python has quite a few methods that string objects can call to perform frequency occurring task (related to string)."
   ]
  },
  {
   "cell_type": "markdown",
   "metadata": {},
   "source": [
    "Letter case manipulation:"
   ]
  },
  {
   "cell_type": "code",
   "execution_count": null,
   "metadata": {},
   "outputs": [],
   "source": [
    "s = \"This string is MIXED with lowercase and UPPERCASE letters\"\n",
    "\n",
    "print(s.lower())\n",
    "print(s.upper())\n",
    "print(s.title())"
   ]
  },
  {
   "cell_type": "markdown",
   "metadata": {},
   "source": [
    "Cleaning unwanted characters:"
   ]
  },
  {
   "cell_type": "code",
   "execution_count": null,
   "metadata": {},
   "outputs": [],
   "source": [
    "s = \"\\n\\t\\n \\n This string has whitespaces from both sides \\n\\n  \"\n",
    "\n",
    "print(s.strip())"
   ]
  },
  {
   "cell_type": "code",
   "execution_count": null,
   "metadata": {},
   "outputs": [],
   "source": [
    "s = \"!?.!?.This string has ?,! and . in both sides??..!?!\"\n",
    "\n",
    "print(s.strip('?!.'))"
   ]
  },
  {
   "cell_type": "code",
   "execution_count": null,
   "metadata": {},
   "outputs": [],
   "source": [
    "# You can use rstrip and lstrip to strip from one side only:\n",
    "s = \"!?.!?.This string has ?,! and . in both sides??..!?!\"\n",
    "\n",
    "print(s.rstrip('?!.'))"
   ]
  },
  {
   "cell_type": "markdown",
   "metadata": {},
   "source": [
    "replacing substrings:"
   ]
  },
  {
   "cell_type": "code",
   "execution_count": null,
   "metadata": {},
   "outputs": [],
   "source": [
    "s = \"This string haa a typo\"\n",
    "\n",
    "print(s.replace(\"haa\",\"had\"))  #str.replace() replaces all occurences"
   ]
  },
  {
   "cell_type": "markdown",
   "metadata": {},
   "source": [
    "Checking stuff on strings:"
   ]
  },
  {
   "cell_type": "code",
   "execution_count": null,
   "metadata": {},
   "outputs": [],
   "source": [
    "s = \"LOREM IPSUM DOLOR SIT AMET\"\n",
    "\n",
    "# Does the string s contains the substring \"dolor\"?\n",
    "print('dolor' in s)\n",
    "print('dolor' in s.lower())"
   ]
  },
  {
   "cell_type": "code",
   "execution_count": null,
   "metadata": {},
   "outputs": [],
   "source": [
    "s = \"Lorem ipsum dolor sit amet\"\n",
    "\n",
    "# Check if a string starts or ends with a specific sub-string:\n",
    "print(s.startswith(\"Lorem\"))\n",
    "print(s.endswith(\"amet\"))"
   ]
  },
  {
   "cell_type": "code",
   "execution_count": null,
   "metadata": {},
   "outputs": [],
   "source": [
    "s1 = \"54531\"  # String with only numbers\n",
    "s2 = \"5k313k\"  # String with only letters and number (alphnumeric)\n",
    "\n",
    "# str.isdigit() -> Does a string consist only of digits? (useful before int conversion)\n",
    "print(s1.isdigit(), s2.isdigit())\n",
    "\n",
    "# str.isalnum() -> Is a string alphanumeric? (only letters and numbers)\n",
    "print(s1.isalnum(), s2.isalnum())"
   ]
  },
  {
   "cell_type": "markdown",
   "metadata": {},
   "source": [
    "String manipulations:"
   ]
  },
  {
   "cell_type": "code",
   "execution_count": null,
   "metadata": {},
   "outputs": [],
   "source": [
    "s = \"Lorem ipsum, dolor sit amet\\nNew, line here.\"\n",
    "\n",
    "# Break the string into a list, the delimiter for breaking it is \",\"\n",
    "print(s.split(','))"
   ]
  },
  {
   "cell_type": "code",
   "execution_count": null,
   "metadata": {},
   "outputs": [],
   "source": [
    "s = \"Lorem ipsum, dolor sit amet\\nNew, line here.\"\n",
    "\n",
    "# If we don't specify a delimiter, the dilimiter is any whitespace \n",
    "print(s.split())\n",
    "# In other words, it splits it to words..."
   ]
  },
  {
   "cell_type": "code",
   "execution_count": null,
   "metadata": {},
   "outputs": [],
   "source": [
    "s = \"Lorem ipsum dolor sit amet\"\n",
    "\n",
    "# We can limit the number of splits from the left side:\n",
    "print(s.split(' ',2)) \n",
    "\n",
    "# Or from the right side:\n",
    "print(s.rsplit(' ',2))"
   ]
  },
  {
   "cell_type": "markdown",
   "metadata": {},
   "source": [
    "Is there a difference between split and split if we don't pass a limit argument?"
   ]
  },
  {
   "cell_type": "code",
   "execution_count": null,
   "metadata": {},
   "outputs": [],
   "source": [
    "s = \"Lorem ipsum\\n dolor sit amet\\nNew, line here.\"\n",
    "\n",
    "# Splitting s with a default delimiter of newlines \\n+\\r:\n",
    "print(s.splitlines())"
   ]
  },
  {
   "cell_type": "markdown",
   "metadata": {},
   "source": [
    "Joining lists into strings:\n"
   ]
  },
  {
   "cell_type": "code",
   "execution_count": null,
   "metadata": {},
   "outputs": [],
   "source": [
    "intro_parts = [\"Hello\", \"my name is inigo montoya\", \"you killed my father\", \"prepare to die\"]\n",
    "\n",
    "# Join the items of intro_parts into one string with a , as a delimiter:\n",
    "print(\", \".join(intro_parts))"
   ]
  },
  {
   "cell_type": "markdown",
   "metadata": {},
   "source": [
    "## Useful tricks\n",
    "\n",
    "We received partial HTML code in a string variable named `html`, our task is to extract the favicon url from it (the string that is inside the href attribute)."
   ]
  },
  {
   "cell_type": "code",
   "execution_count": null,
   "metadata": {},
   "outputs": [],
   "source": [
    "html = \"\"\"<!DOCTYPE HTML>\n",
    "<html>\n",
    "\n",
    "<head>\n",
    "    <meta charset=\"utf-8\">\n",
    "\n",
    "    <title>Jupyter Notebook</title>\n",
    "    <link  id=\"favicon\" href=\"/user/daniel/static/base/images/favicon-notebook.ico\">\n",
    "    <meta http-equiv=\"X-UA-Compatible\" content=\"IE=edge\" />\"\"\""
   ]
  },
  {
   "cell_type": "markdown",
   "metadata": {},
   "source": [
    "Quick & dirty solution:"
   ]
  },
  {
   "cell_type": "code",
   "execution_count": null,
   "metadata": {},
   "outputs": [],
   "source": [
    "print(html.split('href=\"',1)[1].split('\"')[0])"
   ]
  },
  {
   "cell_type": "markdown",
   "metadata": {},
   "source": [
    "![WHA](https://i.imgur.com/IH4fZyx.gif?1)"
   ]
  },
  {
   "cell_type": "markdown",
   "metadata": {},
   "source": [
    "## Some Do's and Dont's\n",
    "When concatenating strings in a loop, try to avoid the `+` operator, since `str` type is imutable, everytime you concatenate strings, a new string object has to be created."
   ]
  },
  {
   "cell_type": "code",
   "execution_count": null,
   "metadata": {},
   "outputs": [],
   "source": [
    "# This is not a good practice, it creates and deletes a string object each loop iteration:\n",
    "\n",
    "str_source = ['S', 'o', 'u', 'r', 'c', 'e', 'O', 'f', 'M', 'a', 'n', 'y', \n",
    "          'L', 'e', 't', 't', 'e', 'r', 's']\n",
    "\n",
    "result = \"\"\n",
    "for s in str_source:\n",
    "    if s.islower():\n",
    "        result += s\n",
    "    \n",
    "print(result)"
   ]
  },
  {
   "cell_type": "code",
   "execution_count": null,
   "metadata": {},
   "outputs": [],
   "source": [
    "# This is a better solution, since list is mutable:\n",
    "\n",
    "str_source = ['S', 'o', 'u', 'r', 'c', 'e', 'O', 'f', 'M', 'a', 'n', 'y', \n",
    "          'L', 'e', 't', 't', 'e', 'r', 's']\n",
    "\n",
    "result = []\n",
    "for s in str_source:\n",
    "    if s.islower():\n",
    "        result.append(s)\n",
    "    \n",
    "print(\"\".join(result))"
   ]
  },
  {
   "cell_type": "markdown",
   "metadata": {},
   "source": [
    "## String formatting\n",
    "\n",
    "Python uses C-style string formatting to create new, formatted strings. The \"%\" operator is used to format a set of variables enclosed in a \"tuple\" (a fixed size list), together with a format string, which contains normal text together with \"argument specifiers\", special symbols like \"%s\" and \"%d\"."
   ]
  },
  {
   "cell_type": "code",
   "execution_count": 10,
   "metadata": {},
   "outputs": [
    {
     "name": "stdout",
     "output_type": "stream",
     "text": [
      "John is 23 years old.\n"
     ]
    }
   ],
   "source": [
    "name = \"John\"\n",
    "age = 23\n",
    "print(\"%s is %d years old.\" % (name, age))"
   ]
  },
  {
   "cell_type": "markdown",
   "metadata": {},
   "source": [
    "### String Interpolation\n",
    "\n",
    "New in Python 3.6+"
   ]
  },
  {
   "cell_type": "code",
   "execution_count": null,
   "metadata": {},
   "outputs": [],
   "source": [
    "a = 5\n",
    "b = 10\n",
    "print(f'Five plus ten is {a + b} and not {2 * (a + b)}.')"
   ]
  },
  {
   "cell_type": "markdown",
   "metadata": {},
   "source": []
  }
 ],
 "metadata": {
  "kernelspec": {
   "display_name": "Python 3",
   "language": "python",
   "name": "python3"
  },
  "language_info": {
   "codemirror_mode": {
    "name": "ipython",
    "version": 3
   },
   "file_extension": ".py",
   "mimetype": "text/x-python",
   "name": "python",
   "nbconvert_exporter": "python",
   "pygments_lexer": "ipython3",
   "version": "3.6.8"
  }
 },
 "nbformat": 4,
 "nbformat_minor": 2
}
