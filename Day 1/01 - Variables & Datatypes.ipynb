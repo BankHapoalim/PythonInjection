{
 "cells": [
  {
   "cell_type": "markdown",
   "metadata": {},
   "source": [
    "# Variables\n",
    "\n",
    "Python variables do not need explicit declaration to reserve memory space. The declaration happens automatically when you assign a value to a variable. The equal sign (=) is used to assign values to variables.\n",
    "\n",
    "The operand to the left of the = operator is the name of the variable and the operand to the right of the = operator is the value stored in the variable. For example:"
   ]
  },
  {
   "cell_type": "code",
   "execution_count": null,
   "metadata": {},
   "outputs": [],
   "source": [
    "counter = 100          # An integer assignment\n",
    "miles   = 1000.0       # A floating point\n",
    "name    = \"John\"       # A string"
   ]
  },
  {
   "cell_type": "markdown",
   "metadata": {},
   "source": [
    "Text after the `#` character is considered a comment and is ignored by the interperter.\n",
    "\n",
    "Variable names can starts with a letter or with a _ (underscore), variables can also contains digits."
   ]
  },
  {
   "cell_type": "code",
   "execution_count": null,
   "metadata": {},
   "outputs": [],
   "source": [
    "good_variable_name = 10\n",
    "\n",
    "_good_variable_name1 = 20\n",
    "\n",
    "2bad_variable_name = 40"
   ]
  },
  {
   "cell_type": "markdown",
   "metadata": {},
   "source": [
    "In Python variables are not contstrained to a type, each variable can be anytype and the variable type can also change:"
   ]
  },
  {
   "cell_type": "code",
   "execution_count": null,
   "metadata": {},
   "outputs": [],
   "source": [
    "ten = \"10\"\n",
    "print(ten, type(ten))\n",
    "\n",
    "ten = int(ten)\n",
    "print(ten, type(ten))"
   ]
  },
  {
   "cell_type": "markdown",
   "metadata": {},
   "source": [
    "Everything can be stored in a variable, even a function:"
   ]
  },
  {
   "cell_type": "code",
   "execution_count": null,
   "metadata": {},
   "outputs": [],
   "source": [
    "b = print\n",
    "b(\"Hello\")"
   ]
  },
  {
   "cell_type": "markdown",
   "metadata": {},
   "source": [
    "Everything in Python is case sensitive, including variables:"
   ]
  },
  {
   "cell_type": "code",
   "execution_count": null,
   "metadata": {},
   "outputs": [],
   "source": [
    "a = 3\n",
    "A = 5\n",
    "print(a, A)"
   ]
  },
  {
   "cell_type": "markdown",
   "metadata": {},
   "source": [
    "\n",
    "\n",
    "\n",
    "# Datatypes"
   ]
  },
  {
   "cell_type": "markdown",
   "metadata": {},
   "source": [
    "## int\n",
    "\n",
    "The int type is any round number without a decimal point:"
   ]
  },
  {
   "cell_type": "code",
   "execution_count": null,
   "metadata": {},
   "outputs": [],
   "source": [
    "a = 5\n",
    "b = -1450\n",
    "c = a + b\n"
   ]
  },
  {
   "cell_type": "code",
   "execution_count": null,
   "metadata": {},
   "outputs": [],
   "source": [
    "# The int() function will always return an integer, it will take any type of argument and will try to convert it to integer.\n",
    "\n",
    "a = 10         # regular int assignment\n",
    "b = int(\"10\")  # string -> int\n",
    "c = int(10.99)  # floating poing -> int\n",
    "d = 0x0a       # Hexadeciaml\n",
    "\n",
    "print(a,b,c,d)"
   ]
  },
  {
   "cell_type": "code",
   "execution_count": null,
   "metadata": {},
   "outputs": [],
   "source": [
    "# Not everything can be converted:\n",
    "a = int(\"ten\")\n",
    "print(a)"
   ]
  },
  {
   "cell_type": "markdown",
   "metadata": {},
   "source": [
    "Common integer operators:"
   ]
  },
  {
   "cell_type": "code",
   "execution_count": null,
   "metadata": {},
   "outputs": [],
   "source": [
    "a = 12\n",
    "b = 3\n",
    "\n",
    "c = a + b   # Addition\n",
    "d = b - a   # Substration\n",
    "e = a / b   # Division (returns a floating point in Python 3+)\n",
    "f = a % 5   # Modulo\n",
    "g = a ** 2  # Power (a^2)\n",
    "\n",
    "print(c, d, e, f, g)"
   ]
  },
  {
   "cell_type": "code",
   "execution_count": null,
   "metadata": {},
   "outputs": [],
   "source": [
    "# Python has operator precedence:\n",
    "h = (a+b) / 2  \n",
    "i = a+b / 2 \n",
    "\n",
    "print(h, i)"
   ]
  },
  {
   "cell_type": "markdown",
   "metadata": {},
   "source": [
    "Incrementing values:"
   ]
  },
  {
   "cell_type": "code",
   "execution_count": null,
   "metadata": {},
   "outputs": [],
   "source": [
    "counter = 1\n",
    "\n",
    "\n",
    "counter = counter + 1\n",
    "# or:\n",
    "counter += 1\n",
    "\n",
    "print(counter)"
   ]
  },
  {
   "cell_type": "markdown",
   "metadata": {},
   "source": [
    "This also goes for other operators:"
   ]
  },
  {
   "cell_type": "code",
   "execution_count": null,
   "metadata": {},
   "outputs": [],
   "source": [
    "a = 10\n",
    "\n",
    "a -= 1   # a = a - 1\n",
    "print(a)\n",
    "\n",
    "a *= 2   # a = a * 2\n",
    "print(a)\n",
    "\n",
    "a /= 3   # a = a / 3\n",
    "print(a)\n",
    "\n",
    "a %= 4   # a = a % 4\n",
    "print(a)\n",
    "\n",
    "a **= 4  # a = a ** 4\n",
    "print(a)"
   ]
  },
  {
   "cell_type": "markdown",
   "metadata": {},
   "source": [
    "Multiple assignments:"
   ]
  },
  {
   "cell_type": "code",
   "execution_count": null,
   "metadata": {},
   "outputs": [],
   "source": [
    "a, b, c = 5, 10, 15\n",
    "print(a, b, c)"
   ]
  },
  {
   "cell_type": "markdown",
   "metadata": {},
   "source": [
    "## Python meme of the day"
   ]
  },
  {
   "attachments": {},
   "cell_type": "markdown",
   "metadata": {},
   "source": [
    "### Swapping vars without additional variables?\n",
    "\n",
    "![swapping var](https://i.imgur.com/jGnL8GP.png)\n",
    "\n",
    "\n",
    "\n",
    "\n",
    "\n",
    "\n",
    "\n",
    "\n"
   ]
  },
  {
   "cell_type": "code",
   "execution_count": null,
   "metadata": {},
   "outputs": [],
   "source": [
    "# Swap between a and b:\n",
    "\n",
    "print(a, b)\n",
    "a, b = b, a\n",
    "print(a, b)"
   ]
  },
  {
   "cell_type": "markdown",
   "metadata": {},
   "source": [
    "## float\n",
    "\n",
    "Floating point number, same as int but with a decimal part."
   ]
  },
  {
   "cell_type": "code",
   "execution_count": null,
   "metadata": {
    "scrolled": true
   },
   "outputs": [],
   "source": [
    "# Each of these assignments assigns the floating number 1.0 to a.\n",
    "a = 1.0\n",
    "a = float(1)\n",
    "a = float(\"1\")\n",
    "a = float(\"1.0\")\n",
    "print(a)\n",
    "\n",
    "# These statements assign 2.25 to a\n",
    "a = 2.25\n",
    "a = float(\"2.25\")\n",
    "a = 9 / 4\n",
    "print(a)"
   ]
  },
  {
   "cell_type": "code",
   "execution_count": null,
   "metadata": {},
   "outputs": [],
   "source": [
    "a = 4.8\n",
    "\n",
    "# Get the integer part of a float variable\n",
    "print( int(a) )\n",
    "\n",
    "# Round a float to the closest integer\n",
    "print( round(a) )"
   ]
  },
  {
   "cell_type": "markdown",
   "metadata": {},
   "source": [
    "## str\n",
    "\n",
    "String, an array of characters, strings are encompassed by either double-quote or by single quotes:"
   ]
  },
  {
   "cell_type": "code",
   "execution_count": null,
   "metadata": {},
   "outputs": [],
   "source": [
    "# These two statements are equal:\n",
    "name = \"Daniel\"\n",
    "name = 'Daniel'"
   ]
  },
  {
   "cell_type": "markdown",
   "metadata": {},
   "source": [
    "Simple string operations:"
   ]
  },
  {
   "cell_type": "code",
   "execution_count": null,
   "metadata": {},
   "outputs": [],
   "source": [
    "hello_world = \"Hello \"\n",
    "hello_world += \"World!\"\n",
    "print(hello_world)\n",
    "\n",
    "only_hello = 'Hello'\n",
    "six_times_hello = only_hello * 6\n",
    "print(six_times_hello)"
   ]
  },
  {
   "cell_type": "markdown",
   "metadata": {},
   "source": [
    "In Python there is no type for a single character, a single character is a string with a length of one."
   ]
  },
  {
   "cell_type": "code",
   "execution_count": null,
   "metadata": {},
   "outputs": [],
   "source": [
    "tweet = \"THE RIGGED AND CORRUPT MEDIA IS THE ENEMY OF THE PEOPLE!\"\n",
    "print(len(tweet))\n",
    "\n",
    "first_character = tweet[0]\n",
    "print(first_character, len(first_character), type(first_character))"
   ]
  },
  {
   "cell_type": "markdown",
   "metadata": {},
   "source": [
    "Multiline strings can be written using the newline character (\\n) or by using triple quotes."
   ]
  },
  {
   "cell_type": "code",
   "execution_count": null,
   "metadata": {},
   "outputs": [],
   "source": [
    "a = \"line 1\\nline 2\\nline 3\\nline 4\"\n",
    "print(a)\n",
    "\n",
    "print(\"=\" * 6)\n",
    "\n",
    "b = \"\"\"line 1\n",
    "line 2\n",
    "line 3\n",
    "line 4\"\"\"\n",
    "print(b)"
   ]
  },
  {
   "cell_type": "markdown",
   "metadata": {},
   "source": [
    "String are imutable:"
   ]
  },
  {
   "cell_type": "code",
   "execution_count": null,
   "metadata": {},
   "outputs": [],
   "source": [
    "a = \"abcd\"\n",
    "\n",
    "a[1] = \"B\"  # will raise an exception"
   ]
  },
  {
   "cell_type": "markdown",
   "metadata": {},
   "source": [
    "## bool\n",
    "Boolean variable, can either be True or False, the bool() function can evaluate other types of values into a boolean value."
   ]
  },
  {
   "cell_type": "code",
   "execution_count": null,
   "metadata": {},
   "outputs": [],
   "source": [
    "# The bellow statements all assign True to a.\n",
    "a = True\n",
    "a = bool(1)\n",
    "a = bool(0.0001)\n",
    "a = bool(\"0\")\n",
    "a = not False\n",
    "print(a)\n",
    "\n",
    "# The bellow statements all assign False to b.\n",
    "b = False\n",
    "b = bool(0)\n",
    "b = bool(0.0)\n",
    "b = bool(\"\")\n",
    "b = not True\n",
    "print(b)"
   ]
  },
  {
   "cell_type": "markdown",
   "metadata": {},
   "source": [
    "## Short excercise\n",
    "\n",
    "Let's see if you've been following so far. by using only what we learned until now, \n",
    "\n",
    "Given a random x and y values, print True if y divides x without a remainder, otherwise print False.\n"
   ]
  },
  {
   "cell_type": "code",
   "execution_count": null,
   "metadata": {},
   "outputs": [],
   "source": [
    "x = 73892\n",
    "y = 5684\n",
    "\n",
    "# Add your code here..."
   ]
  },
  {
   "cell_type": "markdown",
   "metadata": {},
   "source": [
    "# Compound Datatypes\n",
    "\n",
    "Python offers a range of compound datatypes often referred to as sequences."
   ]
  },
  {
   "cell_type": "markdown",
   "metadata": {},
   "source": [
    "## list\n",
    "\n",
    "List is one of the most frequently used and very versatile datatype used in Python.\n",
    "\n",
    "In Python programming, a list is created by placing all the items (elements) inside a square bracket [ ], separated by commas.\n",
    "It can have any number of items and they may be of different types (integer, float, string etc.)."
   ]
  },
  {
   "cell_type": "code",
   "execution_count": null,
   "metadata": {},
   "outputs": [],
   "source": [
    "# empty list\n",
    "my_list = []\n",
    "\n",
    "# list of integers\n",
    "my_list = [1, 2, 3]\n",
    "\n",
    "# list with mixed datatypes\n",
    "my_list = [1, \"Hello\", 3.4]"
   ]
  },
  {
   "cell_type": "markdown",
   "metadata": {},
   "source": [
    "Nested lists - lists can have other lists as items :"
   ]
  },
  {
   "cell_type": "code",
   "execution_count": null,
   "metadata": {},
   "outputs": [],
   "source": [
    "# nested list\n",
    "my_list = [\"mouse\", [8, 4, 6], ['a']]"
   ]
  },
  {
   "cell_type": "markdown",
   "metadata": {},
   "source": [
    "Accessing items in a list:"
   ]
  },
  {
   "cell_type": "code",
   "execution_count": null,
   "metadata": {},
   "outputs": [],
   "source": [
    "my_list = ['p','r','o','b','e']\n",
    "# Output: o\n",
    "print(my_list[2])\n",
    "\n",
    "\n",
    "# Nested List\n",
    "n_list = [\"Happy\", [2,0,1,5]]\n",
    "\n",
    "# Nested indexing\n",
    "\n",
    "# Output: a\n",
    "print(n_list[0][1])    \n",
    "\n",
    "# Output: 5\n",
    "print(n_list[1][3])\n",
    "\n",
    "# Negative indexing:\n",
    "\n",
    "# Output: e\n",
    "print(my_list[-1])\n",
    "\n",
    "# Output: r\n",
    "print(my_list[-4])\n"
   ]
  },
  {
   "cell_type": "markdown",
   "metadata": {},
   "source": [
    "List is mutable:"
   ]
  },
  {
   "cell_type": "code",
   "execution_count": null,
   "metadata": {},
   "outputs": [],
   "source": [
    "abc_list = [\"a\",\"b\",\"c\"]\n",
    "abc_list[1] = 15\n",
    "\n",
    "print(abc_list)"
   ]
  },
  {
   "cell_type": "markdown",
   "metadata": {},
   "source": [
    "Adding / Removing items from a list:"
   ]
  },
  {
   "cell_type": "code",
   "execution_count": null,
   "metadata": {},
   "outputs": [],
   "source": [
    "a3_list = [\"A\"] * 3\n",
    "print(a3_list)\n",
    "\n",
    "abc_list = [\"A\",\"B\"]\n",
    "abc_list += [\"C\"]\n",
    "print(abc_list)\n",
    "\n",
    "abc_list.append(\"D\")\n",
    "print(abc_list)\n",
    "\n",
    "abc_list.remove(\"D\")\n",
    "print(abc_list)\n"
   ]
  },
  {
   "cell_type": "markdown",
   "metadata": {},
   "source": [
    "Variable assignment tricks:"
   ]
  },
  {
   "cell_type": "code",
   "execution_count": null,
   "metadata": {},
   "outputs": [],
   "source": [
    "my_list = [10, 'Hello', 1.001, False]\n",
    "a, b, c, d = my_list\n",
    "\n",
    "print(a,b,c,d)"
   ]
  },
  {
   "cell_type": "markdown",
   "metadata": {},
   "source": [
    "## tuple\n",
    "\n",
    "Tuple is an imutable sequence data type, it is very similar to list, but it cannot be changed once created:"
   ]
  },
  {
   "cell_type": "code",
   "execution_count": null,
   "metadata": {},
   "outputs": [],
   "source": [
    "# Defining a tuple:\n",
    "abc_tuple = (\"A\",\"B\",\"C\")\n",
    "\n",
    "# Indexing is the same as list:\n",
    "print(abc_tuple[1])"
   ]
  },
  {
   "cell_type": "code",
   "execution_count": null,
   "metadata": {},
   "outputs": [],
   "source": [
    "# Each of the following statements will raise an exception, why?\n",
    "abc_tuple[1] = \"b\"\n",
    "\n",
    "abc_tuple.remove(\"C\")\n",
    "\n",
    "abc_tuple.append(\"D\")"
   ]
  },
  {
   "cell_type": "markdown",
   "metadata": {},
   "source": [
    "But it is possible to create a new bigger tupple using an already created tuple:"
   ]
  },
  {
   "cell_type": "code",
   "execution_count": null,
   "metadata": {},
   "outputs": [],
   "source": [
    "abc_tuple = (\"A\",\"B\") + (\"C\",)\n",
    "print(abc_tuple)\n",
    "\n",
    "# Try to remove the comma after \"C\", what happens? why?\n",
    "\n",
    "# You can also create a new list based on a tuple:\n",
    "abc_list = list(abc_tuple)\n",
    "abc_list.append(\"D\")"
   ]
  },
  {
   "cell_type": "markdown",
   "metadata": {},
   "source": [
    "## dict"
   ]
  },
  {
   "cell_type": "markdown",
   "metadata": {},
   "source": [
    "Python dictionary is an unordered collection of items. While other compound data types have only value as an element, a dictionary has a key: value pair.\n",
    "\n",
    "Dictionaries are optimized to retrieve values when the key is known."
   ]
  },
  {
   "cell_type": "code",
   "execution_count": null,
   "metadata": {},
   "outputs": [],
   "source": [
    "# Creating a dictionary:\n",
    "\n",
    "# empty dictionary\n",
    "my_dict = {}\n",
    "\n",
    "# dictionary with integer keys\n",
    "my_dict = {1: 'apple', 2: 'ball'}\n",
    "\n",
    "# dictionary with mixed keys and nested compound data types\n",
    "my_dict = {'name': 'John', 1: [2, 4, 3], \"nested_dict\": {10:\"Ten\", 11:\"Eleven\"}}\n",
    "\n",
    "# from sequence having each item as a pair\n",
    "my_dict = dict([(1,'apple'), (2,'ball')])"
   ]
  },
  {
   "cell_type": "markdown",
   "metadata": {},
   "source": [
    "Accessing and changing dicts:"
   ]
  },
  {
   "cell_type": "code",
   "execution_count": null,
   "metadata": {},
   "outputs": [],
   "source": [
    "# dictionary with mixed keys and nested compound data types\n",
    "my_dict = {1: [2, 4, 3], 'name': 'John', \"nested_dict\": {10:\"Ten\", 11:\"Eleven\"}, \"age\":10}\n",
    "\n",
    "print(my_dict['name'])\n",
    "\n",
    "print(my_dict.get('age'))\n",
    "\n",
    "print(my_dict[1][1])\n",
    "\n",
    "print(my_dict[\"nested_dict\"][10])"
   ]
  },
  {
   "cell_type": "code",
   "execution_count": null,
   "metadata": {},
   "outputs": [],
   "source": [
    "# Trying to access keys which doesn't exist throws an exception:\n",
    "my_dict['address']"
   ]
  },
  {
   "cell_type": "markdown",
   "metadata": {},
   "source": [
    "Modfying a dict:"
   ]
  },
  {
   "cell_type": "code",
   "execution_count": null,
   "metadata": {},
   "outputs": [],
   "source": [
    "my_dict = {1: [2, 4, 3], 'name': 'John', \"nested_dict\": {10:\"Ten\", 11:\"Eleven\"}, \"age\":10}\n",
    "\n",
    "# Change the current value of \"key\" to 27\n",
    "my_dict[\"age\"] = 27\n",
    "\n",
    "# Add \"address\" key and set the value:\n",
    "my_dict[\"address\"] = \"Hanegev 11\"\n",
    "\n",
    "# Increment the value assigned to \"age\" key:\n",
    "my_dict[\"age\"] += 1\n",
    "\n",
    "# Deleting a key/value pair from a dict:\n",
    "del my_dict[\"name\"]\n",
    "\n",
    "print(my_dict)"
   ]
  },
  {
   "cell_type": "markdown",
   "metadata": {},
   "source": [
    "Getting information about a dict:"
   ]
  },
  {
   "cell_type": "code",
   "execution_count": null,
   "metadata": {},
   "outputs": [],
   "source": [
    "numbers_dict = {1: \"One\", 2: \"Two\", \"Three\": 3}\n",
    "\n",
    "print(numbers_dict.keys())\n",
    "print(numbers_dict.values())\n",
    "print(numbers_dict.items()) \n",
    "print(len(numbers_dict))      # returns number of key/value pairs in the dict\n",
    "print(2 in numbers_dict)\n",
    "print(3 in numbers_dict)"
   ]
  },
  {
   "cell_type": "markdown",
   "metadata": {},
   "source": [
    "Interesting cases:"
   ]
  },
  {
   "cell_type": "code",
   "execution_count": null,
   "metadata": {},
   "outputs": [],
   "source": [
    "a = {}\n",
    "a = {1: a} \n",
    "# How will the structure of `a` look like?\n",
    "print(a)"
   ]
  },
  {
   "cell_type": "code",
   "execution_count": null,
   "metadata": {},
   "outputs": [],
   "source": [
    "b = {}\n",
    "b[1] = b\n",
    "# How will the structure of `b` look like?"
   ]
  },
  {
   "cell_type": "markdown",
   "metadata": {},
   "source": [
    "## set\n",
    "\n",
    "A set is an unordered collection of items. Every element is unique (no duplicates) and must be immutable (which cannot be changed).\n",
    "\n",
    "However, the set itself is mutable. We can add or remove items from it.\n",
    "\n",
    "Sets can be used to perform mathematical set operations like union, intersection, symmetric difference etc."
   ]
  },
  {
   "cell_type": "code",
   "execution_count": null,
   "metadata": {},
   "outputs": [],
   "source": [
    "# Creating a set:\n",
    "\n",
    "# set of integers\n",
    "my_set = set([1,2,3])\n",
    "my_set = {1, 2, 3}\n",
    "print(my_set)\n",
    "\n",
    "# an empty set must be created with set() !\n",
    "\n",
    "# set of mixed datatypes\n",
    "my_set = {1.0, \"Hello\", (1, 2, 3)}\n",
    "print(my_set)"
   ]
  },
  {
   "cell_type": "markdown",
   "metadata": {},
   "source": [
    "Extending sets:"
   ]
  },
  {
   "cell_type": "code",
   "execution_count": null,
   "metadata": {},
   "outputs": [],
   "source": [
    "my_set = {1,3}\n",
    "\n",
    "# add an element\n",
    "# Output: {1, 2, 3}\n",
    "my_set.add(2)\n",
    "print(my_set)\n",
    "\n",
    "# add multiple elements\n",
    "# Output: {1, 2, 3, 4}\n",
    "my_set.update([2,3,4])\n",
    "print(my_set)\n",
    "\n",
    "# add list and set\n",
    "# Output: {1, 2, 3, 4, 5, 6, 8}\n",
    "my_set.update([4,5], {1,6,8})\n",
    "print(my_set)"
   ]
  },
  {
   "cell_type": "markdown",
   "metadata": {},
   "source": [
    "Removing items from a set:"
   ]
  },
  {
   "cell_type": "code",
   "execution_count": null,
   "metadata": {},
   "outputs": [],
   "source": [
    "my_set = {1, 3, 4, 5, 6}\n",
    "\n",
    "# discard an element\n",
    "# Output: {1, 3, 5, 6}\n",
    "my_set.discard(4)\n",
    "print(my_set)\n",
    "\n",
    "# remove an element\n",
    "# Output: {1, 3, 5}\n",
    "my_set.remove(6)\n",
    "print(my_set)\n",
    "\n",
    "# remove() throws an exception if the item does not exist, discard will just do nothing."
   ]
  },
  {
   "cell_type": "markdown",
   "metadata": {},
   "source": [
    "Unions and intersections:"
   ]
  },
  {
   "cell_type": "code",
   "execution_count": null,
   "metadata": {},
   "outputs": [],
   "source": [
    "# initialize A and B\n",
    "A = {1, 2, 3, 4, 5}\n",
    "B = {4, 5, 6, 7, 8}\n",
    "\n",
    "# Union\n",
    "# Output: {1, 2, 3, 4, 5, 6, 7, 8}\n",
    "print(A | B)\n",
    "print(A.union(B))\n",
    "\n",
    "# Intersection\n",
    "# Output: {4, 5}\n",
    "print(A & B)\n",
    "print(A.intersection(B))\n",
    "\n",
    "# Difference\n",
    "print(A-B)\n",
    "print(B-A)\n",
    "\n",
    "# Symmetric differnce\n",
    "print(A ^ B)"
   ]
  },
  {
   "cell_type": "markdown",
   "metadata": {},
   "source": [
    "Converting set to list and list to set:"
   ]
  },
  {
   "cell_type": "code",
   "execution_count": null,
   "metadata": {},
   "outputs": [],
   "source": [
    "my_set= set([1,2,3,4,5,6])\n",
    "print(my_set)\n",
    "\n",
    "my_set.add(5)\n",
    "print(my_set)\n",
    "\n",
    "my_list = list(my_set)\n",
    "print(my_list)"
   ]
  },
  {
   "cell_type": "markdown",
   "metadata": {},
   "source": [
    "## Short exercise\n",
    "\n",
    "In the code bellow, remove any duplicate items from the words list.\n",
    "\n",
    "Print the list after removing the items, and print the number of items that were removed.\n",
    "\n",
    "Remember: simpler is better!"
   ]
  },
  {
   "cell_type": "raw",
   "metadata": {},
   "source": [
    "words = ['et', 'dolor', 'dolore', 'labore', 'elit', 'aliqua', 'lorem', 'elit', 'dolor', 'sed', 'amet', 'labore', 'magna', 'sit', 'incididunt', 'elit', 'adipiscing', 'sed', 'incididunt', 'consectetur', 'tempor', 'adipiscing', 'consectetur', 'dolore', 'adipiscing', 'aliqua', 'ut', 'et', 'ipsum', 'ipsum', 'aliqua', 'ut', 'tempor', 'sit', 'ipsum', 'amet', 'sit', 'amet', 'do', 'consectetur', 'do', 'sed', 'labore', 'tempor', 'lorem', 'incididunt', 'dolore', 'dolor', 'ut', 'lorem', 'do', 'eiusmod', 'magna', 'eiusmod', 'et', 'eiusmod', 'magna']\n",
    "\n",
    "\n",
    "# Enter your code here..."
   ]
  },
  {
   "cell_type": "markdown",
   "metadata": {},
   "source": [
    "## None"
   ]
  },
  {
   "cell_type": "markdown",
   "metadata": {},
   "source": [
    "NoneType is the type for the None object, which is an object that indicates no value. \n",
    "\n",
    "None is the return value of functions that \"don't return anything\". It is also a common default return value for functions that search for something and may or may not find it"
   ]
  },
  {
   "cell_type": "code",
   "execution_count": null,
   "metadata": {},
   "outputs": [],
   "source": [
    "nothing = None\n",
    "\n",
    "# When evaluating boolean, None will always be False\n",
    "b = bool(None)\n",
    "print(b)"
   ]
  }
 ],
 "metadata": {
  "kernelspec": {
   "display_name": "Python 3",
   "language": "python",
   "name": "python3"
  },
  "language_info": {
   "codemirror_mode": {
    "name": "ipython",
    "version": 3
   },
   "file_extension": ".py",
   "mimetype": "text/x-python",
   "name": "python",
   "nbconvert_exporter": "python",
   "pygments_lexer": "ipython3",
   "version": "3.6.8"
  }
 },
 "nbformat": 4,
 "nbformat_minor": 2
}
