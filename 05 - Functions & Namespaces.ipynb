{
 "cells": [
  {
   "cell_type": "markdown",
   "metadata": {},
   "source": [
    "# Functions\n",
    "\n",
    "## Definition\n",
    "Here are simple rules to define a function in Python.\n",
    "\n",
    "1) Function blocks begin with the keyword def followed by the function name and parentheses ( ).\n",
    "\n",
    "2) Any input parameters or arguments should be placed within these parentheses. You can also define parameters inside these parentheses.\n",
    "\n",
    "3) The first statement of a function can be an optional statement - the documentation string of the function or docstring.\n",
    "\n",
    "4) The code block within every function starts with a colon (:) and is indented.\n",
    "\n",
    "5) The statement return [expression] exits a function, optionally passing back an expression to the caller. A return statement with no arguments is the same as return None."
   ]
  },
  {
   "cell_type": "code",
   "execution_count": null,
   "metadata": {},
   "outputs": [],
   "source": [
    "# The following three functions do exactly identical:\n",
    "\n",
    "def printme(s):\n",
    "   print(s)\n",
    "\n",
    "def printme(s):\n",
    "   \"\"\"This function just prints the passed string\"\"\"\n",
    "   print(s)\n",
    "\n",
    "def printme(s):\n",
    "   \"\"\"This function just prints the passed string\"\"\"\n",
    "   print(s)\n",
    "   return\n",
    "\n",
    "def printme(s):\n",
    "   \"\"\"This function just prints the passed string\"\"\"\n",
    "   print(s)\n",
    "   return None\n",
    "\n",
    "printme(\"Hello World\")"
   ]
  },
  {
   "cell_type": "markdown",
   "metadata": {},
   "source": [
    "More than one argument:"
   ]
  },
  {
   "cell_type": "code",
   "execution_count": null,
   "metadata": {},
   "outputs": [],
   "source": [
    "def printinfo(name, age):\n",
    "   print(\"Name: \", name)\n",
    "   print(\"Age \", age)\n",
    "    \n",
    "printinfo(\"Natan\", 34)"
   ]
  },
  {
   "cell_type": "markdown",
   "metadata": {},
   "source": [
    "### Optional arguments\n",
    "\n",
    "We can make one or more of the arguments of the function optional by giving it a default value:"
   ]
  },
  {
   "cell_type": "code",
   "execution_count": null,
   "metadata": {},
   "outputs": [],
   "source": [
    "def printinfo(name, age=35):\n",
    "   print(\"Name: \", name)\n",
    "   print(\"Age \", age)\n",
    "\n",
    "printinfo(age=50, name=\"Michael\")\n",
    "printinfo(name=\"Lony\")"
   ]
  },
  {
   "cell_type": "markdown",
   "metadata": {},
   "source": [
    "#### Note about default values\n",
    "When assigning default values to arguments, don't assign mutable objects to an argument unless you are aware of the consequences"
   ]
  },
  {
   "cell_type": "code",
   "execution_count": null,
   "metadata": {},
   "outputs": [],
   "source": [
    "# What will the following code print?\n",
    "\n",
    "def add_and_print(item, list_arg= []):\n",
    "    list_arg.append(item)\n",
    "    print(list_arg)\n",
    "    \n",
    "\n",
    "my_list = []\n",
    "add_and_print(\"A\", my_list)\n",
    "add_and_print(\"B\")\n",
    "add_and_print(\"C\")"
   ]
  },
  {
   "cell_type": "markdown",
   "metadata": {},
   "source": [
    "## Referencing Functions\n",
    "\n",
    "References to functions can be stored in variables or can be passed as arguments to other functions:"
   ]
  },
  {
   "cell_type": "code",
   "execution_count": null,
   "metadata": {},
   "outputs": [],
   "source": [
    "def my_sum(a, b):\n",
    "    return a + b\n",
    "\n",
    "ref = my_sum  # Note the lack of ()\n",
    "\n",
    "print(ref(3,5))"
   ]
  },
  {
   "cell_type": "markdown",
   "metadata": {},
   "source": [
    "We've already done it before with map(), remember?"
   ]
  },
  {
   "cell_type": "code",
   "execution_count": null,
   "metadata": {},
   "outputs": [],
   "source": [
    "a = [1.4, 2.9, 3.1, 0.9, 4.1]\n",
    "\n",
    "m = map(round, a)  # The reference to the function round() is passed to map().\n",
    "print(list(m))"
   ]
  },
  {
   "cell_type": "markdown",
   "metadata": {},
   "source": [
    "## Nested functions\n",
    "\n",
    "Functions can be nested inside other functions:"
   ]
  },
  {
   "cell_type": "code",
   "execution_count": null,
   "metadata": {},
   "outputs": [],
   "source": [
    "def add_one_and_multiply(x):\n",
    "    a = x+1    \n",
    "    \n",
    "    def multiply(y):\n",
    "        return y*2\n",
    "    \n",
    "    return multiply(a)\n",
    "\n",
    "add_one_and_multiply(2)    "
   ]
  },
  {
   "cell_type": "markdown",
   "metadata": {},
   "source": [
    "\n",
    "\n",
    "# Namespaces"
   ]
  },
  {
   "cell_type": "markdown",
   "metadata": {},
   "source": [
    "To simply put it, namespace is a collection of names.\n",
    "\n",
    "In Python, you can imagine a namespace as a mapping of every name, you have defined, to corresponding objects (variables are objects in Python)\n",
    "\n",
    "Different namespaces can co-exist at a given time but are completely isolated.\n",
    "\n",
    "A namespace containing all the built-in names is created when we start the Python interpreter and exists as long we don't exit.\n",
    "\n",
    "This is the reason that built-in functions like len(), print() etc. are always available to us from any part of the program. Each module creates its own global namespace.\n",
    "\n",
    "These different namespaces are isolated. Hence, the same name that may exist in different functions do not collide.\n",
    "\n",
    "![Nesting namespaces](https://i.imgur.com/m0PLxyY.png)\n",
    "\n",
    "\n",
    "\n",
    "## Accessable namespaces\n",
    "\n",
    "In a local namespace of a function we can access objects that are defined on the global namespace for reading:"
   ]
  },
  {
   "cell_type": "code",
   "execution_count": null,
   "metadata": {},
   "outputs": [],
   "source": [
    "x = \"global\"\n",
    "\n",
    "def foo():\n",
    "    print(\"x in a local name space :\", x)\n",
    "\n",
    "foo()\n",
    "print(\"x in the global namespace:\", x)"
   ]
  },
  {
   "cell_type": "markdown",
   "metadata": {},
   "source": [
    "If we'll try to reuse a name from the global namespace inside a local namespace for a new object, the name & object will be created inside our local namespace:"
   ]
  },
  {
   "cell_type": "code",
   "execution_count": null,
   "metadata": {},
   "outputs": [],
   "source": [
    "x = \"global\"\n",
    "\n",
    "def foo():\n",
    "    x = \"local\"\n",
    "    print(\"x in a local name space :\", x)\n",
    "\n",
    "foo()\n",
    "print(\"x in the global namespace:\", x)"
   ]
  },
  {
   "cell_type": "markdown",
   "metadata": {},
   "source": [
    "If we'll try to read and change an object that is currently only defined in the global namespace, Python will get angry at us:"
   ]
  },
  {
   "cell_type": "code",
   "execution_count": null,
   "metadata": {},
   "outputs": [],
   "source": [
    "x = 1\n",
    "\n",
    "def foo():\n",
    "    x += 1\n",
    "    print(x)\n",
    "    \n",
    "foo()\n",
    "print(x)"
   ]
  },
  {
   "cell_type": "markdown",
   "metadata": {},
   "source": [
    "## The `global` keyword\n",
    "\n",
    "If we really want to, we can fully use an object from the global namespace inside our local namespace.\n",
    "Although it is usually considered a bad coding practice."
   ]
  },
  {
   "cell_type": "code",
   "execution_count": null,
   "metadata": {},
   "outputs": [],
   "source": [
    "x = 1\n",
    "y = 10\n",
    "\n",
    "def foo():\n",
    "    global x\n",
    "    x += 1\n",
    "    \n",
    "def bar():\n",
    "    global y\n",
    "    y = 15\n",
    "    \n",
    "foo()\n",
    "bar()\n",
    "print(x)\n",
    "print(y)"
   ]
  }
 ],
 "metadata": {
  "kernelspec": {
   "display_name": "Python 3",
   "language": "python",
   "name": "python3"
  },
  "language_info": {
   "codemirror_mode": {
    "name": "ipython",
    "version": 3
   },
   "file_extension": ".py",
   "mimetype": "text/x-python",
   "name": "python",
   "nbconvert_exporter": "python",
   "pygments_lexer": "ipython3",
   "version": "3.6.8"
  }
 },
 "nbformat": 4,
 "nbformat_minor": 2
}
