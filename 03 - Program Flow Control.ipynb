{
 "cells": [
  {
   "cell_type": "markdown",
   "metadata": {},
   "source": [
    "# Program Flow Control"
   ]
  },
  {
   "cell_type": "markdown",
   "metadata": {},
   "source": [
    "To control the flow of the program python uses if-else, for loops & while loops."
   ]
  },
  {
   "cell_type": "markdown",
   "metadata": {},
   "source": [
    "## `if-else` Statements\n",
    "\n",
    "In coding, perhaps the most well-known statement type is the if statement.\n",
    "\n",
    "If statements in Python receive an expression, evaluates it to boolean, and executes the following block if it evaluates to True."
   ]
  },
  {
   "cell_type": "code",
   "execution_count": null,
   "metadata": {},
   "outputs": [],
   "source": [
    "x = int(input(\"Please enter an integer: \"))\n",
    "\n",
    "if x < 0:\n",
    "    print(\"The number is negative\")\n",
    "    \n",
    "print(\"This line will be printed anyway.\")"
   ]
  },
  {
   "cell_type": "markdown",
   "metadata": {},
   "source": [
    "Code segments/blocks in Python -\n",
    "\n",
    "For Python to distinguish between different segments/blocks of code, you just have to add indentation.\n",
    "All the statements belonging to the same block must have identical indentation.\n",
    "\n",
    "You can use spaces or tabs for indentation, but don't use both.\n",
    "\n",
    "The PEP8 convention for Python uses 4 spaces as an indentation unit."
   ]
  },
  {
   "cell_type": "code",
   "execution_count": null,
   "metadata": {},
   "outputs": [],
   "source": [
    "# if-else:\n",
    "\n",
    "x = int(input(\"Please enter an integer: \"))\n",
    "\n",
    "if x < 0:\n",
    "    print(\"The number is negative\")\n",
    "else:\n",
    "    print(\"The number is positive or zero.\")"
   ]
  },
  {
   "cell_type": "code",
   "execution_count": null,
   "metadata": {},
   "outputs": [],
   "source": [
    "# chaining if statements:\n",
    "\n",
    "x = int(input(\"Please enter an integer: \"))\n",
    "\n",
    "if x < 0:\n",
    "    print(\"The number is negative\")\n",
    "elif x == 0:\n",
    "    print(\"The number is zero\")\n",
    "elif x > 0:\n",
    "    print(\"The number is positive\")\n",
    "    if x > 2:\n",
    "        print(\"and it is greater than two\")\n",
    "else:\n",
    "    print(\"I have no idea what the number is\")"
   ]
  },
  {
   "cell_type": "markdown",
   "metadata": {},
   "source": [
    "## `while` loops\n",
    "The while statement is used for repeated execution as long as an expression is evaluated to true:\n"
   ]
  },
  {
   "cell_type": "code",
   "execution_count": null,
   "metadata": {},
   "outputs": [],
   "source": [
    "x = 0\n",
    "\n",
    "while x < 10:\n",
    "    x += 1\n",
    "    print(x)"
   ]
  },
  {
   "cell_type": "markdown",
   "metadata": {},
   "source": [
    "`break` statement will stop the block execution and halt the loop\n",
    "\n",
    "`continue` statement will stop the current block execution but will resume in the next iteration of the loop"
   ]
  },
  {
   "cell_type": "code",
   "execution_count": null,
   "metadata": {},
   "outputs": [],
   "source": [
    "test_results = [10, 7, -8, -5, 9, 0, 2, -2.01, -6, 0]\n",
    "\n",
    "while test_results:\n",
    "    # the list.pop() function removes an item from the list in the specified index and returns it.\n",
    "    # if no index is speficied- it will choose the last item in the list.\n",
    "    current_result = test_results.pop(0)\n",
    "    \n",
    "    if type(current_result) != int:\n",
    "        print(\"Test result is corrupted, halting check.\")\n",
    "        break\n",
    "    \n",
    "    elif not current_result:\n",
    "        # Dont print tests with zero result\n",
    "        continue\n",
    "        \n",
    "    print(\"Test result is:\", current_result)\n",
    "    \n",
    "else:\n",
    "    # In both while & for loops, the else block will be executed unless 'break' was called on it.\n",
    "    print(\"There were no corrupted results\")"
   ]
  },
  {
   "cell_type": "markdown",
   "metadata": {},
   "source": [
    "## `for` loops\n",
    "\n",
    "The for statement is used to iterate over the elements of a sequence (such as a string, tuple or list) or other iterable object."
   ]
  },
  {
   "cell_type": "code",
   "execution_count": null,
   "metadata": {},
   "outputs": [],
   "source": [
    "test_results = [10, 7, -8, -5, 9, 0, 2, -2.01, -6, 0]\n",
    "\n",
    "for current_result in test_results:\n",
    "    if type(current_result) != int:\n",
    "        print(\"Test result is corrupted, halting check.\")\n",
    "        break\n",
    "    \n",
    "    elif not current_result:\n",
    "        # Dont print tests with zero result\n",
    "        continue\n",
    "        \n",
    "    print(\"Test result is:\", current_result)\n",
    "    \n",
    "else:\n",
    "    print(\"There were no corrupted results\")"
   ]
  },
  {
   "cell_type": "markdown",
   "metadata": {},
   "source": [
    "The `range()` and `enumerate()` functions are very commonly used in for loops:"
   ]
  },
  {
   "cell_type": "code",
   "execution_count": null,
   "metadata": {},
   "outputs": [],
   "source": [
    "print ( list(range(10)))\n",
    "\n",
    "test_results = [10, 7, -8, -5, 9, 0, 2, -2.01, -6, 0]\n",
    "print (list(enumerate(test_results)))"
   ]
  },
  {
   "cell_type": "markdown",
   "metadata": {},
   "source": [
    "Using `range()`:"
   ]
  },
  {
   "cell_type": "code",
   "execution_count": null,
   "metadata": {},
   "outputs": [],
   "source": [
    "for i in range(10):\n",
    "    print(\"#\" * (i+1))"
   ]
  },
  {
   "cell_type": "markdown",
   "metadata": {},
   "source": [
    "using `enumerate()`:"
   ]
  },
  {
   "cell_type": "code",
   "execution_count": null,
   "metadata": {},
   "outputs": [],
   "source": [
    "for test in enumerate(test_results):\n",
    "    print(\"Test number\", test[0]+1, 'is', test[1])"
   ]
  },
  {
   "cell_type": "markdown",
   "metadata": {},
   "source": [
    "Or the more Pythonic way:"
   ]
  },
  {
   "cell_type": "code",
   "execution_count": null,
   "metadata": {},
   "outputs": [],
   "source": [
    "for test_index, test_result in enumerate(test_results):\n",
    "    print(\"Test number\", test_index+1, 'is', test_result)"
   ]
  },
  {
   "cell_type": "markdown",
   "metadata": {},
   "source": [
    "## `for` Versus `while`"
   ]
  },
  {
   "cell_type": "markdown",
   "metadata": {},
   "source": [
    "In Python, we'll use `for` statements where the number of iterations we need to perform is determinable before the loop start, such as when we have a given sequence or set of items that we need to iterate over, or when the number of iterations is static (i.e 5 iterations).\n",
    "\n",
    "`while` is used when we can't easily detemine when we'll need to stop, such as when accepting user input one by one until he enters a certain input, or while reading a file of unknown size."
   ]
  }
 ],
 "metadata": {
  "kernelspec": {
   "display_name": "Python 3",
   "language": "python",
   "name": "python3"
  },
  "language_info": {
   "codemirror_mode": {
    "name": "ipython",
    "version": 3
   },
   "file_extension": ".py",
   "mimetype": "text/x-python",
   "name": "python",
   "nbconvert_exporter": "python",
   "pygments_lexer": "ipython3",
   "version": "3.6.8"
  }
 },
 "nbformat": 4,
 "nbformat_minor": 2
}
